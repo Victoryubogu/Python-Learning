{
 "cells": [
  {
   "cell_type": "code",
   "execution_count": 1,
   "id": "23d1075a",
   "metadata": {},
   "outputs": [],
   "source": [
    "# This is a comment"
   ]
  },
  {
   "cell_type": "code",
   "execution_count": 2,
   "id": "e35d1895",
   "metadata": {},
   "outputs": [
    {
     "name": "stdout",
     "output_type": "stream",
     "text": [
      "I am a Python developer\n",
      "Vee is a passionate girl\n"
     ]
    }
   ],
   "source": [
    "print(\"I am a Python developer\")\n",
    "print('Vee is a passionate girl')"
   ]
  },
  {
   "cell_type": "code",
   "execution_count": 3,
   "id": "56d902a9",
   "metadata": {},
   "outputs": [
    {
     "name": "stdout",
     "output_type": "stream",
     "text": [
      "66\n"
     ]
    }
   ],
   "source": [
    "# calculation\n",
    "print(10+8*7)"
   ]
  },
  {
   "cell_type": "code",
   "execution_count": 4,
   "id": "bd531fcb",
   "metadata": {},
   "outputs": [
    {
     "name": "stdout",
     "output_type": "stream",
     "text": [
      "The addition is  7\n"
     ]
    }
   ],
   "source": [
    "# adding 2 numbers\n",
    "\n",
    "print(\"The addition is \", 4+3)"
   ]
  },
  {
   "cell_type": "code",
   "execution_count": 5,
   "id": "0d946f0e",
   "metadata": {},
   "outputs": [
    {
     "name": "stdout",
     "output_type": "stream",
     "text": [
      "The sum of a and b is 10\n"
     ]
    }
   ],
   "source": [
    "# Variables -- names given to the values stored in the memory\n",
    "\n",
    "a = 4\n",
    "b = 6\n",
    "\n",
    "print('The sum of a and b is', a+b)\n",
    "\n"
   ]
  },
  {
   "cell_type": "code",
   "execution_count": 6,
   "id": "24b04f0e",
   "metadata": {},
   "outputs": [
    {
     "name": "stdout",
     "output_type": "stream",
     "text": [
      "5 Victory 67.5\n",
      "72.5 and the name is Victory\n"
     ]
    }
   ],
   "source": [
    "a = 5 # integer variable\n",
    "name = 'Victory' # string variable\n",
    "x = 67.5 # decimal value\n",
    "\n",
    "print(a,name,x)\n",
    "print(a+x, \"and the name is\", name)"
   ]
  },
  {
   "cell_type": "code",
   "execution_count": 7,
   "id": "6a3b421f",
   "metadata": {},
   "outputs": [
    {
     "name": "stdout",
     "output_type": "stream",
     "text": [
      "<class 'str'>\n",
      "<class 'float'>\n",
      "<class 'int'>\n"
     ]
    }
   ],
   "source": [
    "# detect the datatype of any variable\n",
    "print(type(name))\n",
    "\n",
    "print(type(x))\n",
    "print(type(a))"
   ]
  },
  {
   "cell_type": "code",
   "execution_count": 8,
   "id": "0998a320",
   "metadata": {},
   "outputs": [
    {
     "name": "stdout",
     "output_type": "stream",
     "text": [
      "76\n"
     ]
    }
   ],
   "source": [
    "# type casting -- change the type of any value\n",
    "\n",
    "c = int(76.4)\n",
    "print(c)"
   ]
  },
  {
   "cell_type": "code",
   "execution_count": 9,
   "id": "baf41353",
   "metadata": {},
   "outputs": [
    {
     "name": "stdout",
     "output_type": "stream",
     "text": [
      "76.0\n"
     ]
    }
   ],
   "source": [
    "d = float(76)\n",
    "print(d)"
   ]
  },
  {
   "cell_type": "code",
   "execution_count": 11,
   "id": "11b9f1cf",
   "metadata": {},
   "outputs": [
    {
     "name": "stdout",
     "output_type": "stream",
     "text": [
      "5\n",
      "<class 'str'>\n"
     ]
    }
   ],
   "source": [
    "x = str(5) # '5'\n",
    "print(x)\n",
    "print(type(x))"
   ]
  },
  {
   "cell_type": "code",
   "execution_count": 12,
   "id": "4ad3defb",
   "metadata": {},
   "outputs": [
    {
     "name": "stdout",
     "output_type": "stream",
     "text": [
      "Orange\n",
      "Banana\n",
      "Cherry\n"
     ]
    }
   ],
   "source": [
    "x, y, z = \"Orange\", \"Banana\", \"Cherry\"\n",
    "\n",
    "print(x)\n",
    "print(y)\n",
    "print(z)\n"
   ]
  },
  {
   "cell_type": "code",
   "execution_count": 13,
   "id": "3c530f03",
   "metadata": {},
   "outputs": [
    {
     "data": {
      "text/plain": [
       "complex"
      ]
     },
     "execution_count": 13,
     "metadata": {},
     "output_type": "execute_result"
    }
   ],
   "source": [
    "c = 5 + 8j\n",
    "type(c)"
   ]
  },
  {
   "cell_type": "code",
   "execution_count": 14,
   "id": "90b0aeaf",
   "metadata": {},
   "outputs": [],
   "source": [
    "c = True\n",
    "d = False"
   ]
  },
  {
   "cell_type": "code",
   "execution_count": 16,
   "id": "5f8fc94b",
   "metadata": {},
   "outputs": [
    {
     "data": {
      "text/plain": [
       "bool"
      ]
     },
     "execution_count": 16,
     "metadata": {},
     "output_type": "execute_result"
    }
   ],
   "source": [
    "type(d)"
   ]
  },
  {
   "cell_type": "code",
   "execution_count": 25,
   "id": "23c60606",
   "metadata": {},
   "outputs": [
    {
     "name": "stdout",
     "output_type": "stream",
     "text": [
      "l\n",
      "23\n",
      "live\n",
      "True\n",
      "False\n"
     ]
    }
   ],
   "source": [
    "s = \"Vee lives in California\"\n",
    "print(s[4])\n",
    "print(len(s))\n",
    "print(s[4:8]) # print from 4th index to 7th index\n",
    "print('live' in s)\n",
    "print('Akshat' in s)"
   ]
  },
  {
   "cell_type": "code",
   "execution_count": 5,
   "id": "9720bdec",
   "metadata": {},
   "outputs": [
    {
     "name": "stdout",
     "output_type": "stream",
     "text": [
      "false\n"
     ]
    }
   ],
   "source": [
    "x =26\n",
    "y = 4\n",
    "\n",
    "if x+y==65:\n",
    "  print(\"true\")\n",
    "else:\n",
    "    print(\"false\")"
   ]
  },
  {
   "cell_type": "code",
   "execution_count": null,
   "id": "270c038c-b6b6-482a-b99e-e08b90ce6d0b",
   "metadata": {},
   "outputs": [],
   "source": [
    "input(\"enter your name\")"
   ]
  },
  {
   "cell_type": "code",
   "execution_count": 1,
   "id": "dd00c807-ef42-42ee-b42b-4a07ac5ba245",
   "metadata": {},
   "outputs": [
    {
     "name": "stdout",
     "output_type": "stream",
     "text": [
      "True\n",
      "False\n",
      "False\n"
     ]
    }
   ],
   "source": [
    "print(10 > 9)\n",
    "print(10 == 9)\n",
    "print(10 < 9)"
   ]
  },
  {
   "cell_type": "code",
   "execution_count": 25,
   "id": "f0d6aca6-35b0-478a-9d92-d86eae68b935",
   "metadata": {},
   "outputs": [
    {
     "name": "stdout",
     "output_type": "stream",
     "text": [
      "b is not greater than a\n"
     ]
    }
   ],
   "source": [
    "a = 200\n",
    "b = 33\n",
    "\n",
    "if b > a:\n",
    "  print(\"b is greater than a\")\n",
    "else:\n",
    "  print(\"b is not greater than a\")"
   ]
  },
  {
   "cell_type": "code",
   "execution_count": 27,
   "id": "992b1a7c-aa63-4d5c-bfd9-da907a7aec07",
   "metadata": {},
   "outputs": [
    {
     "name": "stdout",
     "output_type": "stream",
     "text": [
      "True\n",
      "True\n"
     ]
    }
   ],
   "source": [
    "print(bool(\"Hello\"))\n",
    "print(bool(15))"
   ]
  },
  {
   "cell_type": "code",
   "execution_count": 29,
   "id": "f8ff2fb4-92f1-4c76-b6db-9620605f0392",
   "metadata": {},
   "outputs": [
    {
     "name": "stdout",
     "output_type": "stream",
     "text": [
      "True\n",
      "True\n"
     ]
    }
   ],
   "source": [
    "x = \"Hello\"\n",
    "y = 15\n",
    "\n",
    "print(bool(x))\n",
    "print(bool(y))"
   ]
  },
  {
   "cell_type": "code",
   "execution_count": 31,
   "id": "0c3a7542-0a09-4102-b722-b1d21bc7dec5",
   "metadata": {},
   "outputs": [
    {
     "name": "stdout",
     "output_type": "stream",
     "text": [
      "YES!\n"
     ]
    }
   ],
   "source": [
    "def myFunction() :\n",
    "  return True\n",
    "\n",
    "if myFunction():\n",
    "  print(\"YES!\")\n",
    "else:\n",
    "  print(\"NO!\")\n"
   ]
  },
  {
   "cell_type": "code",
   "execution_count": 35,
   "id": "52b535eb-a362-4184-b406-4a1e8bab8dff",
   "metadata": {},
   "outputs": [
    {
     "name": "stdout",
     "output_type": "stream",
     "text": [
      "False\n"
     ]
    }
   ],
   "source": [
    "x = 200\n",
    "print(isinstance(x, str))"
   ]
  },
  {
   "cell_type": "code",
   "execution_count": 37,
   "id": "be2a8c75-05b5-411e-856b-da4f693af6d0",
   "metadata": {},
   "outputs": [
    {
     "name": "stdout",
     "output_type": "stream",
     "text": [
      "15\n"
     ]
    }
   ],
   "source": [
    "print(10+5)"
   ]
  },
  {
   "cell_type": "code",
   "execution_count": 51,
   "id": "8c5b2074-2414-4608-923a-81f16d408178",
   "metadata": {},
   "outputs": [
    {
     "name": "stdout",
     "output_type": "stream",
     "text": [
      "2\n"
     ]
    }
   ],
   "source": [
    "x=2\n",
    "y=10\n",
    "print(x%y)"
   ]
  },
  {
   "cell_type": "code",
   "execution_count": 66,
   "id": "429682f1-b7b9-4121-87ee-922bd81d585c",
   "metadata": {},
   "outputs": [
    {
     "name": "stdout",
     "output_type": "stream",
     "text": [
      "x is not equal to y\n"
     ]
    }
   ],
   "source": [
    "if x != y:\n",
    "    print(\"x is not equal to y\")"
   ]
  },
  {
   "cell_type": "code",
   "execution_count": 100,
   "id": "ad7dadbf-f5a9-4a95-a276-f82e956675cb",
   "metadata": {},
   "outputs": [
    {
     "data": {
      "text/plain": [
       "False"
      ]
     },
     "execution_count": 100,
     "metadata": {},
     "output_type": "execute_result"
    }
   ],
   "source": [
    "x==y\n"
   ]
  },
  {
   "cell_type": "code",
   "execution_count": 102,
   "id": "8f967b59-410c-402e-a6cc-abfb6f7a6b9e",
   "metadata": {},
   "outputs": [
    {
     "data": {
      "text/plain": [
       "False"
      ]
     },
     "execution_count": 102,
     "metadata": {},
     "output_type": "execute_result"
    }
   ],
   "source": [
    "x is y"
   ]
  },
  {
   "cell_type": "code",
   "execution_count": 104,
   "id": "eefbb026-5ce2-4a52-b4dd-dc43f73b1f1f",
   "metadata": {},
   "outputs": [
    {
     "name": "stdout",
     "output_type": "stream",
     "text": [
      "16\n"
     ]
    }
   ],
   "source": [
    "print((x+y) - (y-x))"
   ]
  },
  {
   "cell_type": "code",
   "execution_count": 106,
   "id": "07d9746c-36af-4c9f-92c8-edcf7111ca1e",
   "metadata": {},
   "outputs": [
    {
     "name": "stdout",
     "output_type": "stream",
     "text": [
      "['apple', 'banana', 'cherry']\n"
     ]
    }
   ],
   "source": [
    "thislist = [\"apple\", \"banana\", \"cherry\"]\n",
    "print(thislist)"
   ]
  },
  {
   "cell_type": "code",
   "execution_count": 116,
   "id": "a7404e01-3e91-4403-8c87-18cc27d50531",
   "metadata": {},
   "outputs": [
    {
     "name": "stdout",
     "output_type": "stream",
     "text": [
      "<class 'list'>\n"
     ]
    }
   ],
   "source": [
    "list1 = [\"apple\", \"banana\", \"cherry\"]\n",
    "list2 = [1, 5, 7, 9, 3]\n",
    "list3 = [True, False, False]\n",
    "\n",
    "print(type(list2))"
   ]
  },
  {
   "cell_type": "code",
   "execution_count": 7,
   "id": "dcf60cad-86a8-4ba8-94b5-63a9c7b2a70d",
   "metadata": {},
   "outputs": [
    {
     "name": "stdout",
     "output_type": "stream",
     "text": [
      "average\n"
     ]
    }
   ],
   "source": [
    "\n",
    "\n",
    "marks = int(input(\"enter your marks \"))\n",
    "\n",
    "if marks > 95:\n",
    "    print(\"A+\")\n",
    "elif marks > 95 and marks >= 90 :\n",
    "    print(\"A\")\n",
    "elif marks < 90 and marks >= 75:\n",
    "    print(\"B\")\n",
    "elif marks >= 70:\n",
    "    print(\"C\")\n",
    "elif marks >=60:\n",
    "    print(\"average\")\n",
    "else:\n",
    "    print(\"fail\")"
   ]
  },
  {
   "cell_type": "code",
   "execution_count": 3,
   "id": "10e303d4-ad65-4f47-bdd0-43f13701422e",
   "metadata": {},
   "outputs": [
    {
     "name": "stdin",
     "output_type": "stream",
     "text": [
      "enter your marks  56\n"
     ]
    },
    {
     "name": "stdout",
     "output_type": "stream",
     "text": [
      "fail\n"
     ]
    }
   ],
   "source": [
    "marks = int(input(\"enter your marks \")) # by default the input is taken as a string\n",
    "\n",
    "if marks > 95:\n",
    "    print(\"A+\")\n",
    "elif marks > 95 and marks >= 90 :\n",
    "    print(\"A\")\n",
    "elif marks < 90 and marks >= 75:\n",
    "    print(\"B\")\n",
    "elif marks >= 70:\n",
    "    print(\"C\")\n",
    "elif marks >=60:\n",
    "    print(\"average\")\n",
    "else:\n",
    "    print(\"fail\")"
   ]
  },
  {
   "cell_type": "code",
   "execution_count": 5,
   "id": "4281f997-581b-4d03-b154-d9c2d254260c",
   "metadata": {},
   "outputs": [
    {
     "name": "stdout",
     "output_type": "stream",
     "text": [
      "230\n"
     ]
    }
   ],
   "source": [
    "eng=78\n",
    "math=65\n",
    "sci=87\n",
    "print(eng+math+sci)"
   ]
  },
  {
   "cell_type": "code",
   "execution_count": 7,
   "id": "61afb696-9de5-4eee-b294-52aad261d6fd",
   "metadata": {},
   "outputs": [
    {
     "name": "stdout",
     "output_type": "stream",
     "text": [
      "A\n"
     ]
    }
   ],
   "source": [
    "if (eng+math+sci) >= 180:\n",
    "    print(\"A\")\n",
    "elif (eng+math+sci) >= 150:\n",
    "    print(\"B\")\n",
    "elif (eng+math+sci) >= 100:\n",
    "    print(\"C\")\n",
    "else:\n",
    "    print(\"subject not taken\")"
   ]
  },
  {
   "cell_type": "code",
   "execution_count": 33,
   "id": "35964552-2d7c-4302-afae-74533b736f51",
   "metadata": {},
   "outputs": [
    {
     "name": "stdout",
     "output_type": "stream",
     "text": [
      "my name is victory\n",
      "victory and her neighbour are 15 years old\n"
     ]
    }
   ],
   "source": [
    "a=15\n",
    "b=\"victory\"\n",
    "print(\"my name is\", b)\n",
    "print(b, \"and her neighbour are\", a, \"years old\")"
   ]
  },
  {
   "cell_type": "code",
   "execution_count": 37,
   "id": "949f97ec-984c-4b00-9e7e-0de30d42dcb0",
   "metadata": {},
   "outputs": [
    {
     "name": "stdout",
     "output_type": "stream",
     "text": [
      "bryan lives in the city of dallas located in texas\n"
     ]
    }
   ],
   "source": [
    "name='bryan'\n",
    "city='dallas'\n",
    "state='texas'\n",
    "\n",
    "print(name, \"lives in the city of\", city, \"located in\", state)\n"
   ]
  },
  {
   "cell_type": "code",
   "execution_count": 69,
   "id": "2c74eb32-f752-4955-bcbf-c13fa056b601",
   "metadata": {},
   "outputs": [
    {
     "name": "stdout",
     "output_type": "stream",
     "text": [
      "when you divide 12 by 2 it gives you 6\n"
     ]
    }
   ],
   "source": [
    "a=12\n",
    "b=6\n",
    "c=2\n",
    "\n",
    "print(\"when you divide\", a,\"by\", c, \"it gives you\", b)"
   ]
  },
  {
   "cell_type": "code",
   "execution_count": 85,
   "id": "883ae247-e9cf-4b0f-8e21-5efe9aa419c2",
   "metadata": {},
   "outputs": [
    {
     "name": "stdout",
     "output_type": "stream",
     "text": [
      "76.0\n",
      "5\n",
      "395\n",
      "john\n"
     ]
    }
   ],
   "source": [
    "a=76\n",
    "b=5.2\n",
    "c= \"john\"\n",
    "print(float(a))\n",
    "print(int(b))\n",
    "print(int(a*b))\n",
    "print(str(c))"
   ]
  },
  {
   "cell_type": "code",
   "execution_count": 141,
   "id": "46c862ca-5e4f-45fb-86d6-9bc9a662beca",
   "metadata": {},
   "outputs": [
    {
     "name": "stdin",
     "output_type": "stream",
     "text": [
      "enter your percentage 70\n"
     ]
    },
    {
     "name": "stdout",
     "output_type": "stream",
     "text": [
      "average\n"
     ]
    }
   ],
   "source": [
    "percentage=int(input(\"enter your percentage\"))\n",
    "\n",
    "if percentage > 90 or percentage ==100:\n",
    "    print(\"excellent\")\n",
    "elif percentage > 80 or percentage ==89:\n",
    "    print(\"very good\")\n",
    "elif percentage > 70 or percentage ==79:\n",
    "    print(\"good\")\n",
    "else:\n",
    "    print(\"average\")"
   ]
  },
  {
   "cell_type": "code",
   "execution_count": 135,
   "id": "3ca34193-e537-4580-82c6-fb6f0ffcc515",
   "metadata": {},
   "outputs": [
    {
     "name": "stdout",
     "output_type": "stream",
     "text": [
      "d\n",
      "5\n"
     ]
    }
   ],
   "source": [
    "z=\"grind\"\n",
    "print(z[4])\n",
    "print(len(z))"
   ]
  },
  {
   "cell_type": "code",
   "execution_count": null,
   "id": "a1d2da95-0a02-4633-8456-ff4b53dc4f52",
   "metadata": {},
   "outputs": [],
   "source": []
  },
  {
   "cell_type": "code",
   "execution_count": null,
   "id": "ccfabed6-f5fa-4371-87f1-bcc26a862422",
   "metadata": {},
   "outputs": [],
   "source": []
  },
  {
   "cell_type": "code",
   "execution_count": null,
   "id": "3984bb60-668c-4129-9bff-b1bdb51f1da2",
   "metadata": {},
   "outputs": [],
   "source": []
  }
 ],
 "metadata": {
  "kernelspec": {
   "display_name": "Python [conda env:base] *",
   "language": "python",
   "name": "conda-base-py"
  },
  "language_info": {
   "codemirror_mode": {
    "name": "ipython",
    "version": 3
   },
   "file_extension": ".py",
   "mimetype": "text/x-python",
   "name": "python",
   "nbconvert_exporter": "python",
   "pygments_lexer": "ipython3",
   "version": "3.12.7"
  }
 },
 "nbformat": 4,
 "nbformat_minor": 5
}
